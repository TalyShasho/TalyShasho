{
 "cells": [
  {
   "cell_type": "markdown",
   "metadata": {},
   "source": [
    "Witch company has the wider range in price?\n",
    "-\tDo whiskers graph with the prices divided by company \n",
    "Witch company have the most products?\n",
    "-\tCount the number of products that each company have and do a histogram \n",
    "Relation between price and size\n",
    "-\tScatterplot Pearson correlation \n",
    "Relation between weight and price \n",
    "-\tScatterplot pearson \n",
    "Relation between weight and company \n",
    "-\tScatterplot Pearson correlation \n",
    "Relation between size and ram \n",
    "-\tScatterplot Pearson correlation \n",
    "Which is the most popular GPU company?\n",
    "-\tHistogram of each GPU company (x axis) and how many laptops use it (y) \n"
   ]
  }
 ],
 "metadata": {
  "language_info": {
   "name": "python"
  }
 },
 "nbformat": 4,
 "nbformat_minor": 2
}
